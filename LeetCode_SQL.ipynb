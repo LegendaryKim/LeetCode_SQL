{
 "cells": [
  {
   "cell_type": "markdown",
   "source": [
    "## 175. Combine Two Tables (Easy)\n",
    "\n",
    "Table: `Person`\n",
    "```\n",
    "+-------------+---------+\n",
    "| Column Name | Type    |\n",
    "+-------------+---------+\n",
    "| PersonId    | int     |\n",
    "| FirstName   | varchar |\n",
    "| LastName    | varchar |\n",
    "+-------------+---------+\n",
    "```\n",
    "PersonId is the primary key column for this table.\n",
    "Table: `Address`\n",
    "```\n",
    "+-------------+---------+\n",
    "| Column Name | Type    |\n",
    "+-------------+---------+\n",
    "| AddressId   | int     |\n",
    "| PersonId    | int     |\n",
    "| City        | varchar |\n",
    "| State       | varchar |\n",
    "+-------------+---------+\n",
    "```\n",
    "`AddressId` is the primary key column for this table.\n",
    "\n",
    "\n",
    "Write a SQL query for a report that provides the following information for each person in the `Person` table, regardless if there is an address for each of those people:\n",
    "\n",
    "`FirstName`, `LastName`, `City`, `State`"
   ],
   "metadata": {
    "collapsed": false,
    "pycharm": {
     "name": "#%% md\n"
    }
   }
  },
  {
   "cell_type": "markdown",
   "source": [
    "```mysql\n",
    "SELECT p.FirstName, p.LastName, a.City, a.State\n",
    "FROM Person p\n",
    "LEFT JOIN Address a ON a.PersonId = p.PersonId;\n",
    "```"
   ],
   "metadata": {
    "collapsed": false,
    "pycharm": {
     "name": "#%% md\n"
    }
   }
  },
  {
   "cell_type": "markdown",
   "source": [
    "## 176. Second Highest Salary (Easy)\n",
    "Write a SQL query to get the second highest salary from the `Employee` table.\n",
    "```\n",
    "+----+--------+\n",
    "| Id | Salary |\n",
    "+----+--------+\n",
    "| 1  | 100    |\n",
    "| 2  | 200    |\n",
    "| 3  | 300    |\n",
    "+----+--------+\n",
    "```\n",
    "For example, given the above `Employee` table, the query should return 200 as the second highest salary. If there is no second highest salary, then the query should return null.\n",
    "```\n",
    "+---------------------+\n",
    "| SecondHighestSalary |\n",
    "+---------------------+\n",
    "| 200                 |\n",
    "+---------------------+\n",
    "```"
   ],
   "metadata": {
    "collapsed": false,
    "pycharm": {
     "name": "#%% md\n"
    }
   }
  },
  {
   "cell_type": "markdown",
   "source": [
    "```mysql\n",
    "select\n",
    "    (select distinct salary\n",
    "    from employee\n",
    "    order by salary desc\n",
    "    limit 1, 1) as SecondHighestSalary;\n",
    "```\n"
   ],
   "metadata": {
    "collapsed": false
   }
  },
  {
   "cell_type": "markdown",
   "source": [
    "## 177. Nth Highest Salary (Medium)\n",
    "Write a SQL query to get the nth highest salary from the `Employee` table.\n",
    "```\n",
    "+----+--------+\n",
    "| Id | Salary |\n",
    "+----+--------+\n",
    "| 1  | 100    |\n",
    "| 2  | 200    |\n",
    "| 3  | 300    |\n",
    "+----+--------+\n",
    "```\n",
    "For example, given the above `Employee` table, the nth highest salary where n = 2 is 200. If there is no nth highest salary, then the query should return null.\n",
    "```\n",
    "+------------------------+\n",
    "| getNthHighestSalary(2) |\n",
    "+------------------------+\n",
    "| 200                    |\n",
    "+------------------------+\n",
    "```\n",
    "\n",
    "\n"
   ],
   "metadata": {
    "collapsed": false,
    "pycharm": {
     "name": "#%% md\n"
    }
   }
  },
  {
   "cell_type": "markdown",
   "source": [
    "```mysql\n",
    "create function getNthHighestSalary(N int) returns int\n",
    "begin\n",
    "declare m int;\n",
    "set m=n-1;\n",
    "return (\n",
    "    (select distinct salary\n",
    "    from Employee\n",
    "    order by salary desc\n",
    "    limit m, 1)\n",
    ");\n",
    "end\n",
    "```"
   ],
   "metadata": {
    "collapsed": false,
    "pycharm": {
     "name": "#%% md\n"
    }
   }
  },
  {
   "cell_type": "markdown",
   "source": [
    "## 185. Department Top Three Salaries (Hard)\n",
    "The `Employee` table holds all employees. Every employee has an Id, and there is also a column for the department Id.\n",
    "```\n",
    "+----+-------+--------+--------------+\n",
    "| Id | Name  | Salary | DepartmentId |\n",
    "+----+-------+--------+--------------+\n",
    "| 1  | Joe   | 85000  | 1            |\n",
    "| 2  | Henry | 80000  | 2            |\n",
    "| 3  | Sam   | 60000  | 2            |\n",
    "| 4  | Max   | 90000  | 1            |\n",
    "| 5  | Janet | 69000  | 1            |\n",
    "| 6  | Randy | 85000  | 1            |\n",
    "| 7  | Will  | 70000  | 1            |\n",
    "+----+-------+--------+--------------+\n",
    "```\n",
    "The `Department` table holds all departments of the company.\n",
    "```\n",
    "+----+----------+\n",
    "| Id | Name     |\n",
    "+----+----------+\n",
    "| 1  | IT       |\n",
    "| 2  | Sales    |\n",
    "+----+----------+\n",
    "```\n",
    "Write a SQL query to find employees who earn the top three salaries in each of the department. For the above tables, your SQL query should return the following rows (order of rows does not matter).\n",
    "```\n",
    "+------------+----------+--------+\n",
    "| Department | Employee | Salary |\n",
    "+------------+----------+--------+\n",
    "| IT         | Max      | 90000  |\n",
    "| IT         | Randy    | 85000  |\n",
    "| IT         | Joe      | 85000  |\n",
    "| IT         | Will     | 70000  |\n",
    "| Sales      | Henry    | 80000  |\n",
    "| Sales      | Sam      | 60000  |\n",
    "+------------+----------+--------+\n",
    "```\n",
    "Explanation:\n",
    "\n",
    "In IT department, Max earns the highest salary, both Randy and Joe earn the second highest salary, and Will earns the third highest salary. There are only two employees in the Sales department, Henry earns the highest salary while Sam earns the second highest salary.\n",
    "\n"
   ],
   "metadata": {
    "collapsed": false,
    "pycharm": {
     "name": "#%% md\n"
    }
   }
  },
  {
   "cell_type": "markdown",
   "source": [
    "```mysql\n",
    "select d.Name 'Department', e1.Name 'Employee', e1.Salary\n",
    "from Employee e1\n",
    "    join\n",
    "    Department d on e1.DepartmentId = d.Id\n",
    "where\n",
    "    3 > (select count(distinct e2.salary)\n",
    "    from Employee e2\n",
    "    where e2.salary > e1.salary\n",
    "        and e1.DepartmentId = e2.DepartmentId);\n",
    "```"
   ],
   "metadata": {
    "collapsed": false,
    "pycharm": {
     "name": "#%% md\n"
    }
   }
  },
  {
   "cell_type": "markdown",
   "source": [
    "## Rank Scores (Medium)\n",
    "Write a SQL query to rank scores. If there is a tie between two scores, both should have the same ranking. Note that after a tie, the next ranking number should be the next consecutive integer value. In other words, there should be no \"holes\" between ranks.\n",
    "\n",
    "+----+-------+\n",
    "| Id | Score |\n",
    "+----+-------+\n",
    "| 1  | 3.50  |\n",
    "| 2  | 3.65  |\n",
    "| 3  | 4.00  |\n",
    "| 4  | 3.85  |\n",
    "| 5  | 4.00  |\n",
    "| 6  | 3.65  |\n",
    "+----+-------+\n",
    "For example, given the above `Scores` table, your query should generate the following report (order by highest score):\n",
    "\n",
    "+-------+---------+\n",
    "| score | Rank    |\n",
    "+-------+---------+\n",
    "| 4.00  | 1       |\n",
    "| 4.00  | 1       |\n",
    "| 3.85  | 2       |\n",
    "| 3.65  | 3       |\n",
    "| 3.65  | 3       |\n",
    "| 3.50  | 4       |\n",
    "+-------+---------+\n",
    "Important Note: For MySQL solutions, to escape reserved words used as column names, you can use an apostrophe before and after the keyword. For example `Rank`."
   ],
   "metadata": {
    "collapsed": false,
    "pycharm": {
     "name": "#%% md\n"
    }
   }
  },
  {
   "cell_type": "markdown",
   "source": [
    "Solution1:\n",
    "```mysql\n",
    "select score,\n",
    "    dense_rank() over (order by score desc) \"Rank\"\n",
    "from scores\n",
    "```\n",
    "\n",
    "Soulution2:\n",
    "```mysql\n",
    "select score,\n",
    "    (select count(*)\n",
    "    from (select distinct score s\n",
    "        from scores) tmp where s >= score) \"Rank\"\n",
    "from scores\n",
    "order by score desc;\n",
    "```"
   ],
   "metadata": {
    "collapsed": false,
    "pycharm": {
     "name": "#%% md\n"
    }
   }
  },
  {
   "cell_type": "markdown",
   "source": [
    "## 181. Employees Earning More than Their Manager (Easy)\n",
    "The `Employee` table holds all employees including their managers. Every employee has an Id, and there is also a column for the manager Id.\n",
    "```\n",
    "+----+-------+--------+-----------+\n",
    "| Id | Name  | Salary | ManagerId |\n",
    "+----+-------+--------+-----------+\n",
    "| 1  | Joe   | 70000  | 3         |\n",
    "| 2  | Henry | 80000  | 4         |\n",
    "| 3  | Sam   | 60000  | NULL      |\n",
    "| 4  | Max   | 90000  | NULL      |\n",
    "+----+-------+--------+-----------+\n",
    "```\n",
    "Given the Employee table, write a SQL query that finds out employees who earn more than their managers. For the above table, Joe is the only employee who earns more than his manager.\n",
    "```\n",
    "+----------+\n",
    "| Employee |\n",
    "+----------+\n",
    "| Joe      |\n",
    "+----------+\n",
    "```"
   ],
   "metadata": {
    "collapsed": false,
    "pycharm": {
     "name": "#%% md\n"
    }
   }
  },
  {
   "cell_type": "markdown",
   "source": [
    "```mysql\n",
    "select a.name \"Employee\"\n",
    "from Employee a\n",
    "join Employee b on a.ManagerId = b.Id\n",
    "where a.salary > b.salary;\n",
    "```\n"
   ],
   "metadata": {
    "collapsed": false,
    "pycharm": {
     "name": "#%% md\n"
    }
   }
  },
  {
   "cell_type": "markdown",
   "source": [
    "## 262. Trips and Users (Hard)\n",
    "The `Trips` table holds all taxi trips. Each trip has a unique Id, while Client_Id and Driver_Id are both foreign keys to the Users_Id at the Users table. Status is an ENUM type of (‘completed’, ‘cancelled_by_driver’, ‘cancelled_by_client’).\n",
    "```\n",
    "+----+-----------+-----------+---------+--------------------+----------+\n",
    "| Id | Client_Id | Driver_Id | City_Id |        Status      |Request_at|\n",
    "+----+-----------+-----------+---------+--------------------+----------+\n",
    "| 1  |     1     |    10     |    1    |     completed      |2013-10-01|\n",
    "| 2  |     2     |    11     |    1    | cancelled_by_driver|2013-10-01|\n",
    "| 3  |     3     |    12     |    6    |     completed      |2013-10-01|\n",
    "| 4  |     4     |    13     |    6    | cancelled_by_client|2013-10-01|\n",
    "| 5  |     1     |    10     |    1    |     completed      |2013-10-02|\n",
    "| 6  |     2     |    11     |    6    |     completed      |2013-10-02|\n",
    "| 7  |     3     |    12     |    6    |     completed      |2013-10-02|\n",
    "| 8  |     2     |    12     |    12   |     completed      |2013-10-03|\n",
    "| 9  |     3     |    10     |    12   |     completed      |2013-10-03|\n",
    "| 10 |     4     |    13     |    12   | cancelled_by_driver|2013-10-03|\n",
    "+----+-----------+-----------+---------+--------------------+----------+\n",
    "```\n",
    "The `Users` table holds all users. Each user has an unique Users_Id, and Role is an ENUM type of (‘client’, ‘driver’, ‘partner’).\n",
    "```\n",
    "+----------+--------+--------+\n",
    "| Users_Id | Banned |  Role  |\n",
    "+----------+--------+--------+\n",
    "|    1     |   No   | client |\n",
    "|    2     |   Yes  | client |\n",
    "|    3     |   No   | client |\n",
    "|    4     |   No   | client |\n",
    "|    10    |   No   | driver |\n",
    "|    11    |   No   | driver |\n",
    "|    12    |   No   | driver |\n",
    "|    13    |   No   | driver |\n",
    "+----------+--------+--------+\n",
    "```\n",
    "Write a SQL query to find the cancellation rate of requests made by unbanned users (both client and driver must be unbanned) between Oct 1, 2013 and Oct 3, 2013. The cancellation rate is computed by dividing the number of canceled (by client or driver) requests made by unbanned users by the total number of requests made by unbanned users.\n",
    "\n",
    "For the above tables, your SQL query should return the following rows with the cancellation rate being rounded to two decimal places.\n",
    "```\n",
    "+------------+-------------------+\n",
    "|     Day    | Cancellation Rate |\n",
    "+------------+-------------------+\n",
    "| 2013-10-01 |       0.33        |\n",
    "| 2013-10-02 |       0.00        |\n",
    "| 2013-10-03 |       0.50        |\n",
    "+------------+-------------------+\n",
    "```\n"
   ],
   "metadata": {
    "collapsed": false,
    "pycharm": {
     "name": "#%% md\n"
    }
   }
  },
  {
   "cell_type": "markdown",
   "source": [
    "```mysql\n",
    "select request_at as Day,\n",
    "    round(count(if(status != 'completed', true, null)) / count(*), 2) as 'Cancellation Rate'\n",
    "from trips\n",
    "where client_id in (select users_id from users where Banned='No')\n",
    "    and driver_id in (select users_id from users where Banned='No')\n",
    "    and request_at between '2013-10-01' and '2013-10-03'\n",
    "group by 1;\n",
    "```"
   ],
   "metadata": {
    "collapsed": false,
    "pycharm": {
     "name": "#%% md\n"
    }
   }
  },
  {
   "cell_type": "markdown",
   "source": [
    "## 196. Delete Duplicate Emails (Easy)\n",
    "Write a SQL query to delete all duplicate email entries in a table named `Person`, keeping only unique emails based on its smallest Id.\n",
    "```\n",
    "+----+------------------+\n",
    "| Id | Email            |\n",
    "+----+------------------+\n",
    "| 1  | john@example.com |\n",
    "| 2  | bob@example.com  |\n",
    "| 3  | john@example.com |\n",
    "+----+------------------+\n",
    "```\n",
    "Id is the primary key column for this table.\n",
    "For example, after running your query, the above `Person` table should have the following rows:\n",
    "```\n",
    "+----+------------------+\n",
    "| Id | Email            |\n",
    "+----+------------------+\n",
    "| 1  | john@example.com |\n",
    "| 2  | bob@example.com  |\n",
    "+----+------------------+\n",
    "```\n",
    "Note:\n",
    "\n",
    "Your output is the whole Person table after executing your sql. Use `delete` statement"
   ],
   "metadata": {
    "collapsed": false,
    "pycharm": {
     "name": "#%% md\n"
    }
   }
  },
  {
   "cell_type": "markdown",
   "source": [
    "```mysql\n",
    "delete p1\n",
    "from person p1, person p2\n",
    "where p1.Email = p2.Email and p1.id > p2.id;\n",
    "```\n",
    "\n"
   ],
   "metadata": {
    "collapsed": false,
    "pycharm": {
     "name": "#%% md\n"
    }
   }
  },
  {
   "cell_type": "markdown",
   "source": [
    "## 184. Department Highest Salary (Medium)\n",
    "The `Employee` table holds all employees. Every employee has an Id, a salary, and there is also a column for the department Id.\n",
    "```\n",
    "+----+-------+--------+--------------+\n",
    "| Id | Name  | Salary | DepartmentId |\n",
    "+----+-------+--------+--------------+\n",
    "| 1  | Joe   | 70000  | 1            |\n",
    "| 2  | Jim   | 90000  | 1            |\n",
    "| 3  | Henry | 80000  | 2            |\n",
    "| 4  | Sam   | 60000  | 2            |\n",
    "| 5  | Max   | 90000  | 1            |\n",
    "+----+-------+--------+--------------+\n",
    "```\n",
    "The `Department` table holds all departments of the company.\n",
    "```\n",
    "+----+----------+\n",
    "| Id | Name     |\n",
    "+----+----------+\n",
    "| 1  | IT       |\n",
    "| 2  | Sales    |\n",
    "+----+----------+\n",
    "```\n",
    "Write a SQL query to find employees who have the highest salary in each of the departments. For the above tables, your SQL query should return the following rows (order of rows does not matter).\n",
    "```\n",
    "+------------+----------+--------+\n",
    "| Department | Employee | Salary |\n",
    "+------------+----------+--------+\n",
    "| IT         | Max      | 90000  |\n",
    "| IT         | Jim      | 90000  |\n",
    "| Sales      | Henry    | 80000  |\n",
    "+------------+----------+--------+\n",
    "```\n",
    "Explanation:\n",
    "\n",
    "Max and Jim both have the highest salary in the IT department and Henry has the highest salary in the Sales department.\n"
   ],
   "metadata": {
    "collapsed": false,
    "pycharm": {
     "name": "#%% md\n"
    }
   }
  },
  {
   "cell_type": "markdown",
   "source": [
    "```mysql\n",
    "select d.name as 'Department', e.name as 'Employee', e.salary as 'Salary'\n",
    "from employee e\n",
    "join Department d on e.DepartmentId = d.id\n",
    "where (e.DepartmentId, e.Salary) in (\n",
    "    select DepartmentId, max(Salary)\n",
    "    from employee\n",
    "    group by DepartmentId\n",
    ");\n",
    "```\n"
   ],
   "metadata": {
    "collapsed": false,
    "pycharm": {
     "name": "#%% md\n"
    }
   }
  },
  {
   "cell_type": "markdown",
   "source": [
    "## 1179. Reformat Department Table (Easy)\n",
    "Table: `Department`\n",
    "```\n",
    "+---------------+---------+\n",
    "| Column Name   | Type    |\n",
    "+---------------+---------+\n",
    "| id            | int     |\n",
    "| revenue       | int     |\n",
    "| month         | varchar |\n",
    "+---------------+---------+\n",
    "```\n",
    "(id, month) is the primary key of this table.\n",
    "The table has information about the revenue of each department per month.\n",
    "The month has values in [\"Jan\",\"Feb\",\"Mar\",\"Apr\",\"May\",\"Jun\",\"Jul\",\"Aug\",\"Sep\",\"Oct\",\"Nov\",\"Dec\"].\n",
    "\n",
    "\n",
    "Write an SQL query to reformat the table such that there is a department id column and a revenue column for each month.\n",
    "\n",
    "The query result format is in the following example:\n",
    "\n",
    "`Department` table:\n",
    "```\n",
    "+------+---------+-------+\n",
    "| id   | revenue | month |\n",
    "+------+---------+-------+\n",
    "| 1    | 8000    | Jan   |\n",
    "| 2    | 9000    | Jan   |\n",
    "| 3    | 10000   | Feb   |\n",
    "| 1    | 7000    | Feb   |\n",
    "| 1    | 6000    | Mar   |\n",
    "+------+---------+-------+\n",
    "```\n",
    "Result table:\n",
    "```\n",
    "+------+-------------+-------------+-------------+-----+-------------+\n",
    "| id   | Jan_Revenue | Feb_Revenue | Mar_Revenue | ... | Dec_Revenue |\n",
    "+------+-------------+-------------+-------------+-----+-------------+\n",
    "| 1    | 8000        | 7000        | 6000        | ... | null        |\n",
    "| 2    | 9000        | null        | null        | ... | null        |\n",
    "| 3    | null        | 10000       | null        | ... | null        |\n",
    "+------+-------------+-------------+-------------+-----+-------------+\n",
    "```\n",
    "\n",
    "Note that the result table has 13 columns (1 for the department id + 12 for the months).\n",
    "\n"
   ],
   "metadata": {
    "collapsed": false,
    "pycharm": {
     "name": "#%% md\n"
    }
   }
  },
  {
   "cell_type": "markdown",
   "source": [
    "```mysql\n",
    "select\n",
    "    id,\n",
    "    max(if(month='jan', revenue, null)) as Jan_Revenue,\n",
    "    max(if(month='Feb', revenue, null)) as Feb_Revenue,\n",
    "    max(if(month='Mar', revenue, null)) as Mar_Revenue,\n",
    "    max(if(month='Apr', revenue, null)) as Apr_Revenue,\n",
    "    max(if(month='May', revenue, null)) as May_Revenue,\n",
    "    max(if(month='Jun', revenue, null)) as Jun_Revenue,\n",
    "    max(if(month='Jul', revenue, null)) as Jul_Revenue,\n",
    "    max(if(month='Aug', revenue, null)) as Aug_Revenue,\n",
    "    max(if(month='Sep', revenue, null)) as Sep_Revenue,\n",
    "    max(if(month='Oct', revenue, null)) as Oct_Revenue,\n",
    "    max(if(month='Nov', revenue, null)) as Nov_Revenue,\n",
    "    max(if(month='Dec', revenue, null)) as Dec_Revenue\n",
    "from department\n",
    "group by id;\n",
    "```\n"
   ],
   "metadata": {
    "collapsed": false,
    "pycharm": {
     "name": "#%% md\n"
    }
   }
  },
  {
   "cell_type": "markdown",
   "source": [
    "## 626. Exchange Seats (Medium)\n",
    "Mary is a teacher in a middle school and she has a table seat storing students' names and their corresponding seat ids.\n",
    "\n",
    "The column id is continuous increment.\n",
    "\n",
    "\n",
    "Mary wants to change seats for the adjacent students.\n",
    "\n",
    "\n",
    "Can you write a SQL query to output the result for Mary?\n",
    "\n",
    "```\n",
    "+---------+---------+\n",
    "|    id   | student |\n",
    "+---------+---------+\n",
    "|    1    | Abbot   |\n",
    "|    2    | Doris   |\n",
    "|    3    | Emerson |\n",
    "|    4    | Green   |\n",
    "|    5    | Jeames  |\n",
    "+---------+---------+\n",
    "```\n",
    "For the sample input, the output is:\n",
    "\n",
    "```\n",
    "+---------+---------+\n",
    "|    id   | student |\n",
    "+---------+---------+\n",
    "|    1    | Doris   |\n",
    "|    2    | Abbot   |\n",
    "|    3    | Green   |\n",
    "|    4    | Emerson |\n",
    "|    5    | Jeames  |\n",
    "+---------+---------+\n",
    "```\n",
    "Note:\n",
    "If the number of students is odd, there is no need to change the last one's seat.\n",
    "\n"
   ],
   "metadata": {
    "collapsed": false,
    "pycharm": {
     "name": "#%% md\n"
    }
   }
  },
  {
   "cell_type": "markdown",
   "source": [
    "Solution1 (case):\n",
    "```mysql\n",
    "select\n",
    "    (case\n",
    "        when mod(id, 2) != 0 and counts != id then id+1\n",
    "        when mod(id, 2) != 0 and counts = id then id\n",
    "        else id -1\n",
    "    end) id,\n",
    "    student\n",
    "from\n",
    "    seat,\n",
    "    (select count(*) as counts\n",
    "    from seat) as seat_counts\n",
    "order by id asc;\n",
    "```\n",
    "\n",
    "Solution2 (coalesce, bit manipulation):\n",
    "```mysql\n",
    "select s1.id, coalesce(s2.student, s1.student) as tudent\n",
    "from seat s1\n",
    "left join seat s2 on ((s1.id+1)^1)-1 = s2.id\n",
    "order by s1.id asc;\n",
    "````"
   ],
   "metadata": {
    "collapsed": false,
    "pycharm": {
     "name": "#%% md\n"
    }
   }
  },
  {
   "cell_type": "markdown",
   "source": [
    "## 180. Consecutive Numbers (Medium)\n",
    "Write a SQL query to find all numbers that appear at least three times consecutively.\n",
    "```\n",
    "+----+-----+\n",
    "| Id | Num |\n",
    "+----+-----+\n",
    "| 1  |  1  |\n",
    "| 2  |  1  |\n",
    "| 3  |  1  |\n",
    "| 4  |  2  |\n",
    "| 5  |  1  |\n",
    "| 6  |  2  |\n",
    "| 7  |  2  |\n",
    "+----+-----+\n",
    "```\n",
    "For example, given the above `Logs` table, 1 is the only number that appears consecutively for at least three times.\n",
    "```\n",
    "+-----------------+\n",
    "| ConsecutiveNums |\n",
    "+-----------------+\n",
    "| 1               |\n",
    "+-----------------+\n",
    "```\n",
    "\n"
   ],
   "metadata": {
    "collapsed": false,
    "pycharm": {
     "name": "#%% md\n"
    }
   }
  },
  {
   "cell_type": "markdown",
   "source": [
    "```mysql\n",
    "select l1.num 'ConsecutiveNumbs'\n",
    "from logs l1, logs l2, logs l3\n",
    "where l1.id = l2.id-1\n",
    "    and l2.id = l3.id-1\n",
    "    and l1.num = l2.num\n",
    "    and l2.num = l3.num;\n",
    "```\n",
    "\n"
   ],
   "metadata": {
    "collapsed": false,
    "pycharm": {
     "name": "#%% md\n"
    }
   }
  },
  {
   "cell_type": "markdown",
   "source": [
    "## 615. Average Salary: Departments VS Company (Hard)\n",
    "Given two tables as below, write a query to display the comparison result (higher/lower/same) of the average salary of employees in a department to the company's average salary.\n",
    "\n",
    "\n",
    "Table: `salary`\n",
    "```\n",
    "| id | employee_id | amount | pay_date   |\n",
    "|----|-------------|--------|------------|\n",
    "| 1  | 1           | 9000   | 2017-03-31 |\n",
    "| 2  | 2           | 6000   | 2017-03-31 |\n",
    "| 3  | 3           | 10000  | 2017-03-31 |\n",
    "| 4  | 1           | 7000   | 2017-02-28 |\n",
    "| 5  | 2           | 6000   | 2017-02-28 |\n",
    "| 6  | 3           | 8000   | 2017-02-28 |\n",
    "```\n",
    "\n",
    "The employee_id column refers to the employee_id in the following table `employee`.\n",
    "\n",
    "```\n",
    "| employee_id | department_id |\n",
    "|-------------|---------------|\n",
    "| 1           | 1             |\n",
    "| 2           | 2             |\n",
    "| 3           | 2             |\n",
    "```\n",
    "\n",
    "So for the sample data above, the result is:\n",
    "\n",
    "```\n",
    "| pay_month | department_id | comparison  |\n",
    "|-----------|---------------|-------------|\n",
    "| 2017-03   | 1             | higher      |\n",
    "| 2017-03   | 2             | lower       |\n",
    "| 2017-02   | 1             | same        |\n",
    "| 2017-02   | 2             | same        |\n",
    "```"
   ],
   "metadata": {
    "collapsed": false,
    "pycharm": {
     "name": "#%% md\n"
    }
   }
  },
  {
   "cell_type": "markdown",
   "source": [
    "```mysql\n",
    "select d.pay_month, d.department_id,\n",
    "    (case\n",
    "        when d.department_avg > c.company_avg then 'higher'\n",
    "        when d.department_avg < c.company_avg then 'lower'\n",
    "        else 'same'\n",
    "    end) comparison\n",
    "from\n",
    "    (select e.department_id, avg(s.amount) department_avg, date_format(s.pay_date, '%Y-%m') pay_month\n",
    "    from salary s\n",
    "    join employee e on s.employee_id = e.employee_id\n",
    "    group by e.department_id, pay_month) d\n",
    "join\n",
    "    (select avg(amount) company_avg, date_format(pay_date, '%Y-%m') pay_month\n",
    "    from salary\n",
    "    group by pay_month) c\n",
    "on d.pay_month = c.pay_month;\n",
    "```\n",
    "\n"
   ],
   "metadata": {
    "collapsed": false,
    "pycharm": {
     "name": "#%% md\n"
    }
   }
  },
  {
   "cell_type": "markdown",
   "source": [
    "## 601. Human Traffic of Stadium (Hard)\n",
    "Table: `Stadium`\n",
    "```\n",
    "+---------------+---------+\n",
    "| Column Name   | Type    |\n",
    "+---------------+---------+\n",
    "| id            | int     |\n",
    "| visit_date    | date    |\n",
    "| people        | int     |\n",
    "+---------------+---------+\n",
    "```\n",
    "visit_date is the primary key for this table.\n",
    "Each row of this table contains the visit date and visit id to the stadium with the number of people during the visit.\n",
    "No two rows will have the same visit_date, and as the id increases, the dates increase as well.\n",
    "\n",
    "\n",
    "Write an SQL query to display the records with three or more rows with consecutive id's, and the number of people is greater than or equal to 100 for each.\n",
    "\n",
    "Return the result table ordered by visit_date in ascending order.\n",
    "\n",
    "The query result format is in the following example.\n",
    "\n",
    "\n",
    "\n",
    "`Stadium` table:\n",
    "```\n",
    "+------+------------+-----------+\n",
    "| id   | visit_date | people    |\n",
    "+------+------------+-----------+\n",
    "| 1    | 2017-01-01 | 10        |\n",
    "| 2    | 2017-01-02 | 109       |\n",
    "| 3    | 2017-01-03 | 150       |\n",
    "| 4    | 2017-01-04 | 99        |\n",
    "| 5    | 2017-01-05 | 145       |\n",
    "| 6    | 2017-01-06 | 1455      |\n",
    "| 7    | 2017-01-07 | 199       |\n",
    "| 8    | 2017-01-09 | 188       |\n",
    "+------+------------+-----------+\n",
    "```\n",
    "\n",
    "Result table:\n",
    "```\n",
    "+------+------------+-----------+\n",
    "| id   | visit_date | people    |\n",
    "+------+------------+-----------+\n",
    "| 5    | 2017-01-05 | 145       |\n",
    "| 6    | 2017-01-06 | 1455      |\n",
    "| 7    | 2017-01-07 | 199       |\n",
    "| 8    | 2017-01-09 | 188       |\n",
    "+------+------------+-----------+\n",
    "```\n",
    "The four rows with ids 5, 6, 7, and 8 have consecutive ids and each of them has >= 100 people attended. Note that row 8 was included even though the visit_date was not the next day after row 7.\n",
    "The rows with ids 2 and 3 are not included because we need at least three consecutive ids.\n",
    "\n",
    "\n"
   ],
   "metadata": {
    "collapsed": false,
    "pycharm": {
     "name": "#%% md\n"
    }
   }
  },
  {
   "cell_type": "markdown",
   "source": [
    "```mysql\n",
    "select distinct t1.*\n",
    "from stadium t1, stadium t2, stadium t3\n",
    "where t1.people >= 100 and t2.people >= 100 and t3.people>=100\n",
    "    and (  -- only the order of t1 is considered\n",
    "            (t1.id = t2.id - 1 and t1.id = t3.id - 2) -- t1 < t2 < t3\n",
    "        or\n",
    "            (t3.id = t1.id - 1 and t3.id = t2.id - 2) -- t3 < t1 < t2\n",
    "        or\n",
    "            (t3.id = t2.id - 1 and t3.id = t1.id - 2) -- t3 < t2 < t1\n",
    "        )\n",
    "order by t1.id;\n",
    "```\n",
    "\n"
   ],
   "metadata": {
    "collapsed": false,
    "pycharm": {
     "name": "#%% md\n"
    }
   }
  },
  {
   "cell_type": "markdown",
   "source": [
    "## 1270. All People Report to the Given Manager (Medium)\n",
    "Table: `Employees`\n",
    "```\n",
    "+---------------+---------+\n",
    "| Column Name   | Type    |\n",
    "+---------------+---------+\n",
    "| employee_id   | int     |\n",
    "| employee_name | varchar |\n",
    "| manager_id    | int     |\n",
    "+---------------+---------+\n",
    "```\n",
    "employee_id is the primary key for this table.\n",
    "Each row of this table indicates that the employee with ID employee_id and name employee_name reports his work to his/her direct manager with manager_id\n",
    "The head of the company is the employee with employee_id = 1.\n",
    "\n",
    "\n",
    "Write an SQL query to find employee_id of all employees that directly or indirectly report their work to the head of the company.\n",
    "\n",
    "The indirect relation between managers will not exceed 3 managers as the company is small.\n",
    "\n",
    "Return result table in any order without duplicates.\n",
    "\n",
    "The query result format is in the following example:\n",
    "\n"
   ],
   "metadata": {
    "collapsed": false,
    "pycharm": {
     "name": "#%% md\n"
    }
   }
  },
  {
   "cell_type": "markdown",
   "source": [
    "```mysql\n",
    "select e1.employee_id\n",
    "from employees e1, employees e2, employees e3\n",
    "where e1.manager_id = e2.employee_id\n",
    "    and e2.manager_id = e3.employee_id\n",
    "    and e3.manager_id = 1\n",
    "    and e1.employee_id != 1;\n",
    "```\n",
    "\n"
   ],
   "metadata": {
    "collapsed": false,
    "pycharm": {
     "name": "#%% md\n"
    }
   }
  },
  {
   "cell_type": "markdown",
   "source": [
    "## 1384. Total Sales Amount by Year (Hard)\n",
    "Table: `Product`\n",
    "```\n",
    "+---------------+---------+\n",
    "| Column Name   | Type    |\n",
    "+---------------+---------+\n",
    "| product_id    | int     |\n",
    "| product_name  | varchar |\n",
    "+---------------+---------+\n",
    "```\n",
    "product_id is the primary key for this table.\n",
    "product_name is the name of the product.\n",
    "\n",
    "\n",
    "Table: `Sales`\n",
    "```\n",
    "+---------------------+---------+\n",
    "| Column Name         | Type    |\n",
    "+---------------------+---------+\n",
    "| product_id          | int     |\n",
    "| period_start        | varchar |\n",
    "| period_end          | date    |\n",
    "| average_daily_sales | int     |\n",
    "+---------------------+---------+\n",
    "```\n",
    "product_id is the primary key for this table.\n",
    "period_start and period_end indicates the start and end date for sales period, both dates are inclusive.\n",
    "The average_daily_sales column holds the average daily sales amount of the items for the period.\n",
    "\n",
    "Write an SQL query to report the Total sales amount of each item for each year, with corresponding product name, product_id, product_name and report_year.\n",
    "\n",
    "Dates of the sales years are between 2018 to 2020. Return the result table ordered by product_id and report_year.\n",
    "\n",
    "The query result format is in the following example:\n",
    "\n",
    "\n",
    "`Product` table:\n",
    "```\n",
    "+------------+--------------+\n",
    "| product_id | product_name |\n",
    "+------------+--------------+\n",
    "| 1          | LC Phone     |\n",
    "| 2          | LC T-Shirt   |\n",
    "| 3          | LC Keychain  |\n",
    "+------------+--------------+\n",
    "```\n",
    "\n",
    "`Sales` table:\n",
    "```\n",
    "+------------+--------------+-------------+---------------------+\n",
    "| product_id | period_start | period_end  | average_daily_sales |\n",
    "+------------+--------------+-------------+---------------------+\n",
    "| 1          | 2019-01-25   | 2019-02-28  | 100                 |\n",
    "| 2          | 2018-12-01   | 2020-01-01  | 10                  |\n",
    "| 3          | 2019-12-01   | 2020-01-31  | 1                   |\n",
    "+------------+--------------+-------------+---------------------+\n",
    "```\n",
    "Result table:\n",
    "```\n",
    "+------------+--------------+-------------+--------------+\n",
    "| product_id | product_name | report_year | total_amount |\n",
    "+------------+--------------+-------------+--------------+\n",
    "| 1          | LC Phone     |    2019     | 3500         |\n",
    "| 2          | LC T-Shirt   |    2018     | 310          |\n",
    "| 2          | LC T-Shirt   |    2019     | 3650         |\n",
    "| 2          | LC T-Shirt   |    2020     | 10           |\n",
    "| 3          | LC Keychain  |    2019     | 31           |\n",
    "| 3          | LC Keychain  |    2020     | 31           |\n",
    "+------------+--------------+-------------+--------------+\n",
    "```\n",
    "LC Phone was sold for the period of 2019-01-25 to 2019-02-28, and there are 35 days for this period. Total amount 35*100 = 3500.\n",
    "LC T-shirt was sold for the period of 2018-12-01 to 2020-01-01, and there are 31, 365, 1 days for years 2018, 2019 and 2020 respectively.\n",
    "LC Keychain was sold for the period of 2019-12-01 to 2020-01-31, and there are 31, 31 days for years 2019 and 2020 respectively.\n",
    "\n"
   ],
   "metadata": {
    "collapsed": false,
    "pycharm": {
     "name": "#%% md\n"
    }
   }
  },
  {
   "cell_type": "markdown",
   "source": [
    "```mysql\n",
    "select a.product_id, b.product_name, a.report_year, a.total_amount\n",
    "from (\n",
    "    select product_id, '2018' as report_year,\n",
    "        average_daily_sales * (datediff(least(period_end, '2018-12-31'), greatest(period_start, '2018-01-01'))+1) as total_amount\n",
    "    from sales\n",
    "    where year(period_start)=2018 or year(period_end)=2018\n",
    "\n",
    "    union all\n",
    "\n",
    "    select product_id, '2019' as report_year,\n",
    "        average_daily_sales * (datediff(least(period_end, '2019-12-31'), greatest(period_start, '2019-01-01'))+1) as total_amount\n",
    "    from sales\n",
    "    where year(period_start)<=2019 and year(period_end)>=2019 -- becareful!! <= & >=\n",
    "\n",
    "    union all\n",
    "\n",
    "    select product_id, '2020' as report_year,\n",
    "        average_daily_sales * (datediff(least(period_end, '2020-12-31'), greatest(period_start, '2020-01-01'))+1) as total_amount\n",
    "    from sales\n",
    "    where year(period_start)=2020 or year(period_end)=2020\n",
    ") a\n",
    "left join product b\n",
    "on a.product_id = b.product_id\n",
    "order by a.product_id, a.report_year;\n",
    "```\n",
    "\n"
   ],
   "metadata": {
    "collapsed": false,
    "pycharm": {
     "name": "#%% md\n"
    }
   }
  },
  {
   "cell_type": "markdown",
   "source": [
    "## 182. Duplicate Emails (Easy)\n",
    "Write a SQL query to find all duplicate emails in a table named `Person`.\n",
    "```\n",
    "+----+---------+\n",
    "| Id | Email   |\n",
    "+----+---------+\n",
    "| 1  | a@b.com |\n",
    "| 2  | c@d.com |\n",
    "| 3  | a@b.com |\n",
    "+----+---------+\n",
    "```\n",
    "For example, your query should return the following for the above table:\n",
    "```\n",
    "+---------+\n",
    "| Email   |\n",
    "+---------+\n",
    "| a@b.com |\n",
    "+---------+\n",
    "```\n",
    "Note: All emails are in lowercase."
   ],
   "metadata": {
    "collapsed": false,
    "pycharm": {
     "name": "#%% md\n"
    }
   }
  },
  {
   "cell_type": "markdown",
   "source": [
    "```mysql\n",
    "select email\n",
    "from person\n",
    "group by email\n",
    "having count(email) > 1;\n",
    "```"
   ],
   "metadata": {
    "collapsed": false,
    "pycharm": {
     "name": "#%% md\n"
    }
   }
  },
  {
   "cell_type": "markdown",
   "source": [
    "## 1412. Find the Quiet Students in All Exams (Hard)\n",
    "Table: `Student`\n",
    "```\n",
    "+---------------------+---------+\n",
    "| Column Name         | Type    |\n",
    "+---------------------+---------+\n",
    "| student_id          | int     |\n",
    "| student_name        | varchar |\n",
    "+---------------------+---------+\n",
    "```\n",
    "student_id is the primary key for this table.\n",
    "student_name is the name of the student.\n",
    "\n",
    "\n",
    "Table: `Exam`\n",
    "```\n",
    "+---------------+---------+\n",
    "| Column Name   | Type    |\n",
    "+---------------+---------+\n",
    "| exam_id       | int     |\n",
    "| student_id    | int     |\n",
    "| score         | int     |\n",
    "+---------------+---------+\n",
    "```\n",
    "(exam_id, student_id) is the primary key for this table.\n",
    "Student with student_id got score points in exam with id exam_id.\n",
    "\n",
    "\n",
    "A \"quite\" student is the one who took at least one exam and didn't score neither the high score nor the low score.\n",
    "\n",
    "Write an SQL query to report the students (student_id, student_name) being \"quiet\" in ALL exams.\n",
    "\n",
    "Don't return the student who has never taken any exam. Return the result table ordered by student_id.\n",
    "\n",
    "The query result format is in the following example.\n",
    "\n",
    "\n",
    "\n",
    "Student table:\n",
    "```\n",
    "+-------------+---------------+\n",
    "| student_id  | student_name  |\n",
    "+-------------+---------------+\n",
    "| 1           | Daniel        |\n",
    "| 2           | Jade          |\n",
    "| 3           | Stella        |\n",
    "| 4           | Jonathan      |\n",
    "| 5           | Will          |\n",
    "+-------------+---------------+\n",
    "```\n",
    "`Exam` table:\n",
    "```\n",
    "+------------+--------------+-----------+\n",
    "| exam_id    | student_id   | score     |\n",
    "+------------+--------------+-----------+\n",
    "| 10         |     1        |    70     |\n",
    "| 10         |     2        |    80     |\n",
    "| 10         |     3        |    90     |\n",
    "| 20         |     1        |    80     |\n",
    "| 30         |     1        |    70     |\n",
    "| 30         |     3        |    80     |\n",
    "| 30         |     4        |    90     |\n",
    "| 40         |     1        |    60     |\n",
    "| 40         |     2        |    70     |\n",
    "| 40         |     4        |    80     |\n",
    "+------------+--------------+-----------+\n",
    "```\n",
    "\n",
    "Result table:\n",
    "```\n",
    "+-------------+---------------+\n",
    "| student_id  | student_name  |\n",
    "+-------------+---------------+\n",
    "| 2           | Jade          |\n",
    "+-------------+---------------+\n",
    "```\n",
    "\n",
    "For exam 1: Student 1 and 3 hold the lowest and high score respectively.\n",
    "For exam 2: Student 1 hold both highest and lowest score.\n",
    "For exam 3 and 4: Studnet 1 and 4 hold the lowest and high score respectively.\n",
    "Student 2 and 5 have never got the highest or lowest in any of the exam.\n",
    "Since student 5 is not taking any exam, he is excluded from the result.\n",
    "So, we only return the information of Student 2.\n"
   ],
   "metadata": {
    "collapsed": false,
    "pycharm": {
     "name": "#%% md\n"
    }
   }
  },
  {
   "cell_type": "markdown",
   "source": [
    "```mysql\n",
    "with cte as (\n",
    "    select e.exam_id, e.student_id, s.student_name,\n",
    "        rank() over (partition by exam_id order by score) rank_asc,\n",
    "        rank() over (partition by exam_id order by score desc) rank_desc\n",
    "    from exam e\n",
    "    left join student s\n",
    "        on e.student_id = s.student_id\n",
    ")\n",
    "select distinct student_id, student_name\n",
    "from cte\n",
    "where student_id not in (\n",
    "    select student_id\n",
    "    from cte\n",
    "    where rank_asc=1 or rank_desc=1)\n",
    "order by student_id;\n",
    "```"
   ],
   "metadata": {
    "collapsed": false,
    "pycharm": {
     "name": "#%% md\n"
    }
   }
  },
  {
   "cell_type": "markdown",
   "source": [
    "## 627. Swap Salary (Easy)\n",
    "Given a table `salary`, such as the one below, that has m=male and f=female values. Swap all f and m values (i.e., change all f values to m and vice versa) with a single update statement and no intermediate temp table.\n",
    "\n",
    "Note that you must write a single update statement, DO NOT write any select statement for this problem.\n",
    "\n",
    "\n",
    "\n",
    "Example:\n",
    "```\n",
    "| id | name | sex | salary |\n",
    "|----|------|-----|--------|\n",
    "| 1  | A    | m   | 2500   |\n",
    "| 2  | B    | f   | 1500   |\n",
    "| 3  | C    | m   | 5500   |\n",
    "| 4  | D    | f   | 500    |\n",
    "```\n",
    "After running your update statement, the above salary table should have the following rows:\n",
    "```\n",
    "| id | name | sex | salary |\n",
    "|----|------|-----|--------|\n",
    "| 1  | A    | f   | 2500   |\n",
    "| 2  | B    | m   | 1500   |\n",
    "| 3  | C    | f   | 5500   |\n",
    "| 4  | D    | m   | 500    |\n",
    "```\n",
    "\n"
   ],
   "metadata": {
    "collapsed": false,
    "pycharm": {
     "name": "#%% md\n"
    }
   }
  },
  {
   "cell_type": "markdown",
   "source": [
    "```mysql\n",
    "update salary\n",
    "set\n",
    "    sex = (case sex\n",
    "        when 'm' then 'f'\n",
    "        else 'm'\n",
    "        end);\n",
    "```\n",
    "\n",
    "```mysql\n",
    "update salary\n",
    "set\n",
    "    sex = if(sex='m', 'f', 'm');\n",
    "```\n"
   ],
   "metadata": {
    "collapsed": false,
    "pycharm": {
     "name": "#%% md\n"
    }
   }
  }
 ],
 "metadata": {
  "kernelspec": {
   "name": "pycharm-d5650386",
   "language": "python",
   "display_name": "PyCharm (LeetCode_SQL)"
  },
  "language_info": {
   "codemirror_mode": {
    "name": "ipython",
    "version": 2
   },
   "file_extension": ".py",
   "mimetype": "text/x-python",
   "name": "python",
   "nbconvert_exporter": "python",
   "pygments_lexer": "ipython2",
   "version": "2.7.6"
  }
 },
 "nbformat": 4,
 "nbformat_minor": 0
}